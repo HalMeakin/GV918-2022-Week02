{
  "nbformat": 4,
  "nbformat_minor": 0,
  "metadata": {
    "colab": {
      "provenance": [],
      "collapsed_sections": [],
      "toc_visible": true
    },
    "kernelspec": {
      "name": "python3",
      "display_name": "Python 3"
    }
  },
  "cells": [
    {
      "cell_type": "markdown",
      "metadata": {
        "id": "xUKzQ_SNrr7Y"
      },
      "source": [
        "# Assignment instruction\n",
        "\n",
        "In this part of the assignment, you are asked to answer questions about basics of python and NumPy. Answer all questions. This assignment comprises 40 percent of the assignment grade.\n"
      ]
    },
    {
      "cell_type": "code",
      "metadata": {
        "id": "DYfc9MrpxClU"
      },
      "source": [
        "import numpy as np"
      ],
      "execution_count": 1,
      "outputs": []
    },
    {
      "cell_type": "markdown",
      "source": [
        "# Python introduction (15 points)"
      ],
      "metadata": {
        "id": "2g4y5CiO0bQE"
      }
    },
    {
      "cell_type": "markdown",
      "metadata": {
        "id": "TqooWbBvJbM8"
      },
      "source": [
        "Split the following string by word and create a list"
      ]
    },
    {
      "cell_type": "code",
      "metadata": {
        "id": "3wgqqHryJa1U"
      },
      "source": [
        "string = \"A driverless truck is ready to start earning a living\""
      ],
      "execution_count": 3,
      "outputs": []
    },
    {
      "cell_type": "code",
      "source": [
        "string.split()"
      ],
      "metadata": {
        "colab": {
          "base_uri": "https://localhost:8080/"
        },
        "id": "346FO5g78umX",
        "outputId": "d04b717c-4524-45c8-86f5-a7ad2cc74580"
      },
      "execution_count": 4,
      "outputs": [
        {
          "output_type": "execute_result",
          "data": {
            "text/plain": [
              "['A',\n",
              " 'driverless',\n",
              " 'truck',\n",
              " 'is',\n",
              " 'ready',\n",
              " 'to',\n",
              " 'start',\n",
              " 'earning',\n",
              " 'a',\n",
              " 'living']"
            ]
          },
          "metadata": {},
          "execution_count": 4
        }
      ]
    },
    {
      "cell_type": "markdown",
      "metadata": {
        "id": "gjDIE3OGISsK"
      },
      "source": [
        "For the python list below, run a loop where the number will be printed out when it is greater than 15. The output should look like:\n",
        "```\n",
        "17\n",
        "18\n",
        "17\n",
        "18\n",
        "18\n",
        "18\n",
        "16\n",
        "17\n",
        "16\n",
        "```"
      ]
    },
    {
      "cell_type": "code",
      "metadata": {
        "id": "WsYIjcA9InK-"
      },
      "source": [
        "list_x = [ 0,  4, 17, 15, 10, 13,  7, 15, 13, 18,  3,  8, 17,  3,  4, 18, 15,\n",
        "        0, 13, 10, 18, 18,  9, 11,  7, 16,  8,  8, 17, 10,  1,  1, 13,  7,\n",
        "       15, 11,  2,  0, 16, 15,  0,  4,  2,  0,  4, 15, 14,  7, 14,  1]"
      ],
      "execution_count": 5,
      "outputs": []
    },
    {
      "cell_type": "code",
      "source": [
        "for i in list_x:\n",
        "  if i > 15:\n",
        "    print(i)"
      ],
      "metadata": {
        "colab": {
          "base_uri": "https://localhost:8080/"
        },
        "id": "Qa571XG786Hp",
        "outputId": "9b4a02bc-13fb-4b50-cea7-8f235bc17181"
      },
      "execution_count": 10,
      "outputs": [
        {
          "output_type": "stream",
          "name": "stdout",
          "text": [
            "17\n",
            "18\n",
            "17\n",
            "18\n",
            "18\n",
            "18\n",
            "16\n",
            "17\n",
            "16\n"
          ]
        }
      ]
    },
    {
      "cell_type": "markdown",
      "source": [
        "Define a funtion `inList` with following specs.\n",
        "\n",
        "- Takes two argments:\n",
        "  - `x`: a scaler\n",
        "  - `l`: a list\n",
        "- The function will check whether `x` exists in the list, and print out the results\n",
        "  - if exists: `value is in the list`\n",
        "  - if not: `value is not in the list`\n",
        "\n",
        "For example:\n",
        "\n",
        "```\n",
        "inList(x = 3, l = [10,4,5,3])\n",
        "```\n",
        "\n",
        "Will produce\n",
        "\n",
        "```\n",
        "3 is in the list\n",
        "```"
      ],
      "metadata": {
        "id": "RhPY5R2H1Mgc"
      }
    },
    {
      "cell_type": "code",
      "source": [
        "def inList(x, l):\n",
        "  if np.isscalar(x) == False:\n",
        "    return(\"Argument x must be a scaler object\")\n",
        "  elif type(l) != list:\n",
        "    return(\"Argument l must be a list object\")\n",
        "  elif (x in l) == True:\n",
        "    return(str(x) + \" is in the list\")\n",
        "  else:\n",
        "    return(str(x) + \" is not in the list\")"
      ],
      "metadata": {
        "id": "LduUMnLW1MHe"
      },
      "execution_count": 49,
      "outputs": []
    },
    {
      "cell_type": "code",
      "source": [
        "inList(x = 3, l = [10,4,5,3])"
      ],
      "metadata": {
        "colab": {
          "base_uri": "https://localhost:8080/",
          "height": 36
        },
        "id": "XLZAB0m3BZt6",
        "outputId": "d837c585-0860-473d-aab8-8637b15291ce"
      },
      "execution_count": 50,
      "outputs": [
        {
          "output_type": "execute_result",
          "data": {
            "text/plain": [
              "'3 is in the list'"
            ],
            "application/vnd.google.colaboratory.intrinsic+json": {
              "type": "string"
            }
          },
          "metadata": {},
          "execution_count": 50
        }
      ]
    },
    {
      "cell_type": "markdown",
      "source": [
        "Tests for fail conditions"
      ],
      "metadata": {
        "id": "6z2n-irDF-mU"
      }
    },
    {
      "cell_type": "code",
      "source": [
        "inList(x = 42, l = [10,4,5,3]) "
      ],
      "metadata": {
        "colab": {
          "base_uri": "https://localhost:8080/",
          "height": 36
        },
        "id": "dAYBFbAeCx3S",
        "outputId": "a363cb3c-7a29-4b0a-fefc-dc409b257eaa"
      },
      "execution_count": 51,
      "outputs": [
        {
          "output_type": "execute_result",
          "data": {
            "text/plain": [
              "'42 is not in the list'"
            ],
            "application/vnd.google.colaboratory.intrinsic+json": {
              "type": "string"
            }
          },
          "metadata": {},
          "execution_count": 51
        }
      ]
    },
    {
      "cell_type": "code",
      "source": [
        "inList(x = 42, l = 42) "
      ],
      "metadata": {
        "colab": {
          "base_uri": "https://localhost:8080/",
          "height": 36
        },
        "id": "B22iZSL5F8YF",
        "outputId": "7ab34cf3-2aae-4459-b029-cef42f4042ac"
      },
      "execution_count": 52,
      "outputs": [
        {
          "output_type": "execute_result",
          "data": {
            "text/plain": [
              "'Argument l must be a list object'"
            ],
            "application/vnd.google.colaboratory.intrinsic+json": {
              "type": "string"
            }
          },
          "metadata": {},
          "execution_count": 52
        }
      ]
    },
    {
      "cell_type": "code",
      "source": [
        "inList(x = [10,4], l = [10,4,5,3]) "
      ],
      "metadata": {
        "colab": {
          "base_uri": "https://localhost:8080/",
          "height": 36
        },
        "id": "iceSCc1yGFuk",
        "outputId": "00833142-e764-47d5-d467-ce6bcb58440f"
      },
      "execution_count": 53,
      "outputs": [
        {
          "output_type": "execute_result",
          "data": {
            "text/plain": [
              "'Argument x must be a scaler object'"
            ],
            "application/vnd.google.colaboratory.intrinsic+json": {
              "type": "string"
            }
          },
          "metadata": {},
          "execution_count": 53
        }
      ]
    },
    {
      "cell_type": "markdown",
      "source": [
        "# Numpy (25 points)"
      ],
      "metadata": {
        "id": "taHTbbne0YNn"
      }
    },
    {
      "cell_type": "markdown",
      "metadata": {
        "id": "owVO2EN0S_9P"
      },
      "source": [
        "## Array construction\n",
        "\n",
        "Construct following NumPy arrays (without using `array()` method)\n",
        "\n",
        "- one dimensional arrays:\n",
        "    1. a sequece of integers from `-5` to `7`\n",
        "    2. 10 random numbers drawn from uniform distribution \n",
        "    3. a decreasing sequence of integers from `23` to `0`\n",
        "- two dimensional arrays:\n",
        "    1. 7 x 5 random array drawn from normal distribution\n",
        "    2. 2 x 7 array of zeros\n",
        "    3. 3 x 4 array of 7s, like this\n",
        "      ```\n",
        "      array([[7., 7., 7., 7.],\n",
        "             [7., 7., 7., 7.],\n",
        "             [7., 7., 7., 7.]])\n",
        "      ```\n"
      ]
    },
    {
      "cell_type": "markdown",
      "source": [
        "### One Dimensional Arrays"
      ],
      "metadata": {
        "id": "SIeWSKCNJ4kC"
      }
    },
    {
      "cell_type": "code",
      "metadata": {
        "id": "Ds85CE7mS_bg",
        "colab": {
          "base_uri": "https://localhost:8080/"
        },
        "outputId": "5d00cbf3-045d-4a7a-da8b-c77273c3e911"
      },
      "source": [
        "# 1. a sequece of integers from -5 to 7\n",
        "np.arange(-5, 8)"
      ],
      "execution_count": 57,
      "outputs": [
        {
          "output_type": "execute_result",
          "data": {
            "text/plain": [
              "array([-5, -4, -3, -2, -1,  0,  1,  2,  3,  4,  5,  6,  7])"
            ]
          },
          "metadata": {},
          "execution_count": 57
        }
      ]
    },
    {
      "cell_type": "code",
      "source": [
        "np.random.seed(42)"
      ],
      "metadata": {
        "id": "4hQXfhGBH7M2"
      },
      "execution_count": 63,
      "outputs": []
    },
    {
      "cell_type": "code",
      "source": [
        "# 2. 10 random numbers drawn from uniform distribution\n",
        "np.random.rand(10)"
      ],
      "metadata": {
        "colab": {
          "base_uri": "https://localhost:8080/"
        },
        "id": "7fe88yBoIitf",
        "outputId": "a0c155c7-e2c6-4961-af42-d370710c42b3"
      },
      "execution_count": 71,
      "outputs": [
        {
          "output_type": "execute_result",
          "data": {
            "text/plain": [
              "array([0.84228477, 0.44975413, 0.39515024, 0.92665887, 0.727272  ,\n",
              "       0.32654077, 0.57044397, 0.52083426, 0.96117202, 0.84453385])"
            ]
          },
          "metadata": {},
          "execution_count": 71
        }
      ]
    },
    {
      "cell_type": "code",
      "source": [
        "# 3. a decreasing sequence of integers from 23 to 0\n",
        "np.arange(23,-1,-1)"
      ],
      "metadata": {
        "colab": {
          "base_uri": "https://localhost:8080/"
        },
        "id": "QfN8WlksJM8Z",
        "outputId": "1be3d0db-1351-4b0f-ae88-3610d40f04a1"
      },
      "execution_count": 74,
      "outputs": [
        {
          "output_type": "execute_result",
          "data": {
            "text/plain": [
              "array([23, 22, 21, 20, 19, 18, 17, 16, 15, 14, 13, 12, 11, 10,  9,  8,  7,\n",
              "        6,  5,  4,  3,  2,  1,  0])"
            ]
          },
          "metadata": {},
          "execution_count": 74
        }
      ]
    },
    {
      "cell_type": "markdown",
      "source": [
        "### Two Dimensional Arrays"
      ],
      "metadata": {
        "id": "Mx59A0mpKA-b"
      }
    },
    {
      "cell_type": "code",
      "source": [
        "# 1. 7 x 5 random array drawn from normal distribution\n",
        "np.random.randn(35).reshape([7,5])"
      ],
      "metadata": {
        "colab": {
          "base_uri": "https://localhost:8080/"
        },
        "id": "movGd5EmKF8L",
        "outputId": "be592b56-8c4b-4963-d947-064a9dd94330"
      },
      "execution_count": 81,
      "outputs": [
        {
          "output_type": "execute_result",
          "data": {
            "text/plain": [
              "array([[-2.46969887,  0.48197914,  0.92645636, -0.83758139,  0.67718607],\n",
              "       [ 1.87231912,  0.39637394, -0.6256163 , -0.52246148,  0.0130339 ],\n",
              "       [ 0.37776959,  0.0628246 ,  0.50159637, -0.14694539,  0.18062297],\n",
              "       [ 0.96481058, -1.06483115,  0.1087118 ,  0.10576365,  0.92066672],\n",
              "       [-0.22672246,  0.65304831,  1.10268747, -1.84980294,  1.16863124],\n",
              "       [-0.9853818 , -1.09394041, -2.87945689, -0.80317767, -0.00485694],\n",
              "       [-0.38332331, -0.46252686, -1.11249735,  0.8672295 ,  0.95841384]])"
            ]
          },
          "metadata": {},
          "execution_count": 81
        }
      ]
    },
    {
      "cell_type": "code",
      "source": [
        "# 2. 2 x 7 array of zeros\n",
        "np.zeros(14).reshape([2,7])"
      ],
      "metadata": {
        "colab": {
          "base_uri": "https://localhost:8080/"
        },
        "id": "jI03sZAVNsEf",
        "outputId": "03844c0b-f5dd-4ce9-bd19-ea16c0a6fb94"
      },
      "execution_count": 82,
      "outputs": [
        {
          "output_type": "execute_result",
          "data": {
            "text/plain": [
              "array([[0., 0., 0., 0., 0., 0., 0.],\n",
              "       [0., 0., 0., 0., 0., 0., 0.]])"
            ]
          },
          "metadata": {},
          "execution_count": 82
        }
      ]
    },
    {
      "cell_type": "code",
      "source": [
        "# 3. 3 x 4 array of 7s, like this\n",
        "np.ones(12).reshape(3,4) + 6"
      ],
      "metadata": {
        "colab": {
          "base_uri": "https://localhost:8080/"
        },
        "id": "1y22YcFbN34l",
        "outputId": "ca599817-ff4c-485f-c170-97404e92b84d"
      },
      "execution_count": 88,
      "outputs": [
        {
          "output_type": "execute_result",
          "data": {
            "text/plain": [
              "array([[7., 7., 7., 7.],\n",
              "       [7., 7., 7., 7.],\n",
              "       [7., 7., 7., 7.]])"
            ]
          },
          "metadata": {},
          "execution_count": 88
        }
      ]
    },
    {
      "cell_type": "markdown",
      "metadata": {
        "id": "lYpoMlKvWY66"
      },
      "source": [
        "## Array indexing and selection"
      ]
    },
    {
      "cell_type": "markdown",
      "metadata": {
        "id": "PtztogoEWih1"
      },
      "source": [
        "### One dimension\n"
      ]
    },
    {
      "cell_type": "markdown",
      "metadata": {
        "id": "64nrxJyqYvfR"
      },
      "source": [
        "\n",
        "#### From the array below, create a replicating matrix"
      ]
    },
    {
      "cell_type": "code",
      "metadata": {
        "id": "zwGzQQjVWkPg"
      },
      "source": [
        "arr_1d = np.arange(1, 16)"
      ],
      "execution_count": 90,
      "outputs": []
    },
    {
      "cell_type": "markdown",
      "metadata": {
        "id": "NuJKTmbPW-2t"
      },
      "source": [
        "(1) `array([1, 2, 3, 4, 5, 6, 7])`"
      ]
    },
    {
      "cell_type": "code",
      "metadata": {
        "id": "f-L9PKBwXgS1",
        "colab": {
          "base_uri": "https://localhost:8080/"
        },
        "outputId": "43359c1c-ae08-475b-da03-7dfba95bc1bb"
      },
      "source": [
        "arr_1d[:7]"
      ],
      "execution_count": 93,
      "outputs": [
        {
          "output_type": "execute_result",
          "data": {
            "text/plain": [
              "array([1, 2, 3, 4, 5, 6, 7])"
            ]
          },
          "metadata": {},
          "execution_count": 93
        }
      ]
    },
    {
      "cell_type": "markdown",
      "metadata": {
        "id": "UwH0r0YIXVuP"
      },
      "source": [
        "(2) `array([13, 14, 15])`"
      ]
    },
    {
      "cell_type": "code",
      "metadata": {
        "id": "EYqAMZQ5XbWv",
        "colab": {
          "base_uri": "https://localhost:8080/"
        },
        "outputId": "542bcbea-fe41-4fe5-832d-7472764e8f36"
      },
      "source": [
        "arr_1d[12:15]"
      ],
      "execution_count": 97,
      "outputs": [
        {
          "output_type": "execute_result",
          "data": {
            "text/plain": [
              "array([13, 14, 15])"
            ]
          },
          "metadata": {},
          "execution_count": 97
        }
      ]
    },
    {
      "cell_type": "markdown",
      "metadata": {
        "id": "q2UfO2GBXr2u"
      },
      "source": [
        "#### Do the following \n",
        "\n",
        "1. Set the seed to `208320`\n",
        "2. Construct an array with 20 random numbers from normal distribution\n",
        "3. Select positive elements from the array"
      ]
    },
    {
      "cell_type": "code",
      "metadata": {
        "id": "fKJ9sXkZhlKK"
      },
      "source": [
        "np.random.seed(208320)"
      ],
      "execution_count": 98,
      "outputs": []
    },
    {
      "cell_type": "code",
      "source": [
        "arr_randn = np.random.randn(20)"
      ],
      "metadata": {
        "id": "Y4oGSZzARNNC"
      },
      "execution_count": 99,
      "outputs": []
    },
    {
      "cell_type": "code",
      "source": [
        "arr_randn[arr_randn > 0]"
      ],
      "metadata": {
        "id": "1t2mTqJuRYHL",
        "outputId": "92324319-7878-4cd6-8884-3283573ad9f8",
        "colab": {
          "base_uri": "https://localhost:8080/"
        }
      },
      "execution_count": 105,
      "outputs": [
        {
          "output_type": "execute_result",
          "data": {
            "text/plain": [
              "array([1.10375766e+00, 2.21785369e-01, 1.75022440e+00, 1.12668158e-01,\n",
              "       5.78303818e-01, 5.98302474e-03, 5.91458661e-04, 4.47029122e-01,\n",
              "       4.63016024e-01])"
            ]
          },
          "metadata": {},
          "execution_count": 105
        }
      ]
    },
    {
      "cell_type": "markdown",
      "metadata": {
        "id": "geTubbJihl2Y"
      },
      "source": [
        "### Two dimension"
      ]
    },
    {
      "cell_type": "markdown",
      "metadata": {
        "id": "js7IYXovhsaQ"
      },
      "source": [
        "\n",
        "#### From the array below, crate a replicating matrix"
      ]
    },
    {
      "cell_type": "code",
      "metadata": {
        "id": "usMhlb8MhtlY"
      },
      "source": [
        "arr_2d = np.arange(31, 61).reshape(5, 6)"
      ],
      "execution_count": 107,
      "outputs": []
    },
    {
      "cell_type": "code",
      "source": [
        "# del this afterwards\n",
        "arr_2d"
      ],
      "metadata": {
        "id": "O3uEGi9HSD84",
        "outputId": "da7d4dc4-8ec0-4827-8477-72df6ba216ed",
        "colab": {
          "base_uri": "https://localhost:8080/"
        }
      },
      "execution_count": 108,
      "outputs": [
        {
          "output_type": "execute_result",
          "data": {
            "text/plain": [
              "array([[31, 32, 33, 34, 35, 36],\n",
              "       [37, 38, 39, 40, 41, 42],\n",
              "       [43, 44, 45, 46, 47, 48],\n",
              "       [49, 50, 51, 52, 53, 54],\n",
              "       [55, 56, 57, 58, 59, 60]])"
            ]
          },
          "metadata": {},
          "execution_count": 108
        }
      ]
    },
    {
      "cell_type": "markdown",
      "metadata": {
        "id": "F5wcYHXriHTF"
      },
      "source": [
        "(1) \n",
        "```\n",
        "array([[31, 32, 33, 34, 35, 36],\n",
        "       [37, 38, 39, 40, 41, 42],\n",
        "       [43, 44, 45, 46, 47, 48]])\n",
        "```"
      ]
    },
    {
      "cell_type": "code",
      "metadata": {
        "id": "mUQ1ZqoknwaP",
        "colab": {
          "base_uri": "https://localhost:8080/"
        },
        "outputId": "a2b264d6-6d14-4da8-f9dd-e357f3b35873"
      },
      "source": [
        "arr_2d[:3,:]"
      ],
      "execution_count": 110,
      "outputs": [
        {
          "output_type": "execute_result",
          "data": {
            "text/plain": [
              "array([[31, 32, 33, 34, 35, 36],\n",
              "       [37, 38, 39, 40, 41, 42],\n",
              "       [43, 44, 45, 46, 47, 48]])"
            ]
          },
          "metadata": {},
          "execution_count": 110
        }
      ]
    },
    {
      "cell_type": "markdown",
      "metadata": {
        "id": "SRYQCj71iOnz"
      },
      "source": [
        "(2) \n",
        "```\n",
        "array([[39, 40, 41],\n",
        "       [45, 46, 47],\n",
        "       [51, 52, 53]])\n",
        "```"
      ]
    },
    {
      "cell_type": "code",
      "metadata": {
        "id": "WpB90zkZh-T8",
        "colab": {
          "base_uri": "https://localhost:8080/"
        },
        "outputId": "aef49dbd-bfff-4d10-b08b-4776ea843d82"
      },
      "source": [
        "arr_2d[1:4:,2:5]"
      ],
      "execution_count": 117,
      "outputs": [
        {
          "output_type": "execute_result",
          "data": {
            "text/plain": [
              "array([[39, 40, 41],\n",
              "       [45, 46, 47],\n",
              "       [51, 52, 53]])"
            ]
          },
          "metadata": {},
          "execution_count": 117
        }
      ]
    },
    {
      "cell_type": "markdown",
      "metadata": {
        "id": "XJ5xfKcjigLE"
      },
      "source": [
        "(3)\n",
        "```\n",
        "array([[43, 47],\n",
        "      [55, 59]])\n",
        "```"
      ]
    },
    {
      "cell_type": "code",
      "metadata": {
        "id": "-usZD8AmnxPI",
        "colab": {
          "base_uri": "https://localhost:8080/"
        },
        "outputId": "7285fb58-eaa7-44ab-feac-2a8755672249"
      },
      "source": [
        "arr_2d[[2,4],:][:,[0,4]]"
      ],
      "execution_count": 121,
      "outputs": [
        {
          "output_type": "execute_result",
          "data": {
            "text/plain": [
              "array([[43, 47],\n",
              "       [55, 59]])"
            ]
          },
          "metadata": {},
          "execution_count": 121
        }
      ]
    },
    {
      "cell_type": "markdown",
      "metadata": {
        "id": "gFT0TgnOi1r-"
      },
      "source": [
        "## Array operations\n",
        "\n",
        "For the two dimensional array below, carry out the following operations"
      ]
    },
    {
      "cell_type": "code",
      "metadata": {
        "id": "Bb2sr1S6jDtG"
      },
      "source": [
        "arr_op = np.array([[63, 14, 95, 12, 37, 97, 51],\n",
        "                  [29,  4, 69, 13, 74, 74, 32],\n",
        "                  [14, 63, 83, 52, 16, 86, 78],\n",
        "                  [75, 87,  2,  8, 83,  8, 32],\n",
        "                  [99,  1, 66, 12, 36, 18, 76],\n",
        "                  [45, 81, 23, 54, 38, 26, 30],\n",
        "                  [67, 58, 79, 31, 52, 19, 76],\n",
        "                  [82, 28, 34, 66, 67, 45, 32]])"
      ],
      "execution_count": 122,
      "outputs": []
    },
    {
      "cell_type": "markdown",
      "metadata": {
        "id": "NxxhIZbcj3_a"
      },
      "source": [
        "(1) calculate the sum of the entire array"
      ]
    },
    {
      "cell_type": "code",
      "metadata": {
        "id": "40eUPwabkC8r",
        "colab": {
          "base_uri": "https://localhost:8080/"
        },
        "outputId": "f78d0a27-1bef-4c5e-c7e3-a79735d35118"
      },
      "source": [
        "np.sum(arr_op)"
      ],
      "execution_count": 124,
      "outputs": [
        {
          "output_type": "execute_result",
          "data": {
            "text/plain": [
              "2692"
            ]
          },
          "metadata": {},
          "execution_count": 124
        }
      ]
    },
    {
      "cell_type": "markdown",
      "metadata": {
        "id": "mNmER7DAkAkZ"
      },
      "source": [
        "(2) calculate the mean of each row"
      ]
    },
    {
      "cell_type": "code",
      "metadata": {
        "id": "fz58tVIUjeAZ",
        "colab": {
          "base_uri": "https://localhost:8080/"
        },
        "outputId": "7abb5dda-57c3-4676-d5be-b24e274cde46"
      },
      "source": [
        "arr_op.mean(axis = 1)"
      ],
      "execution_count": 131,
      "outputs": [
        {
          "output_type": "execute_result",
          "data": {
            "text/plain": [
              "array([52.71428571, 42.14285714, 56.        , 42.14285714, 44.        ,\n",
              "       42.42857143, 54.57142857, 50.57142857])"
            ]
          },
          "metadata": {},
          "execution_count": 131
        }
      ]
    },
    {
      "cell_type": "markdown",
      "metadata": {
        "id": "b-tag0RikJan"
      },
      "source": [
        "(3) calculate the standard deviaiton of each column"
      ]
    },
    {
      "cell_type": "code",
      "metadata": {
        "id": "X6dPnbKckRNk",
        "colab": {
          "base_uri": "https://localhost:8080/"
        },
        "outputId": "85c7b5bb-cc6b-409d-ec78-00f8674313d1"
      },
      "source": [
        "arr_op.std(axis = 0)"
      ],
      "execution_count": 132,
      "outputs": [
        {
          "output_type": "execute_result",
          "data": {
            "text/plain": [
              "array([26.42323788, 32.30325061, 30.69176396, 21.70829335, 21.27755566,\n",
              "       32.28752662, 20.92508961])"
            ]
          },
          "metadata": {},
          "execution_count": 132
        }
      ]
    }
  ]
}