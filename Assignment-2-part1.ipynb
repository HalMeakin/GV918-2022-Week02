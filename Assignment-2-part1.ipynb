{
  "nbformat": 4,
  "nbformat_minor": 0,
  "metadata": {
    "colab": {
      "provenance": [],
      "toc_visible": true
    },
    "kernelspec": {
      "name": "python3",
      "display_name": "Python 3"
    },
    "language_info": {
      "name": "python"
    }
  },
  "cells": [
    {
      "cell_type": "markdown",
      "metadata": {
        "id": "ZNOJsvnByeTX"
      },
      "source": [
        "# Assignment Instruction\n",
        "\n",
        "This is Part 1 of assignment 2. It amounts to 40 percent of the grade.\n",
        "\n",
        "In this part of the assignment, you will scrape the list of postgraduate modules offered by the Department of Government, University of Essex. The starting url is https://www1.essex.ac.uk/modules/modules.aspx?department=GV&filter=PG&year=22&campus=CO&level=&zs=true. \n",
        "\n",
        "\n"
      ]
    },
    {
      "cell_type": "code",
      "metadata": {
        "id": "ZRs5fNKVoSza"
      },
      "source": [
        "from urllib.request import urlopen\n",
        "from bs4 import BeautifulSoup\n",
        "import pandas as pd\n",
        "from time import sleep\n",
        "import re"
      ],
      "execution_count": 1,
      "outputs": []
    },
    {
      "cell_type": "markdown",
      "metadata": {
        "id": "vK4ElCXGzBhs"
      },
      "source": [
        "# Get the table as DataFrame (10 percent)\n",
        "\n",
        "- Get the webpage and convert the table there into a pandas DataFrame"
      ]
    },
    {
      "cell_type": "code",
      "metadata": {
        "id": "8fpCOlKjoOP0"
      },
      "source": [
        "url = 'https://www1.essex.ac.uk/modules/modules.aspx?department=GV&filter=PG&year=22&campus=CO&level=&zs=true'"
      ],
      "execution_count": 2,
      "outputs": []
    },
    {
      "cell_type": "code",
      "metadata": {
        "id": "f4otG6YcoqF-"
      },
      "source": [
        "html = urlopen(url)\n",
        "bs = BeautifulSoup(html, 'html.parser')"
      ],
      "execution_count": 3,
      "outputs": []
    },
    {
      "cell_type": "code",
      "source": [
        "df_module = pd.read_html(url)\n",
        "df_module = df_module[0]"
      ],
      "metadata": {
        "id": "R5ZckZSkR8D6"
      },
      "execution_count": 46,
      "outputs": []
    },
    {
      "cell_type": "markdown",
      "metadata": {
        "id": "--mbIEbCzj3i"
      },
      "source": [
        "- How many modules (answer from the number of rows in the DataFrame)?"
      ]
    },
    {
      "cell_type": "code",
      "source": [
        "len(df_module)"
      ],
      "metadata": {
        "id": "WCn7swgeSkjt",
        "outputId": "d2b5a29b-7df9-44b7-b0b5-645cbffeb0be",
        "colab": {
          "base_uri": "https://localhost:8080/"
        }
      },
      "execution_count": 47,
      "outputs": [
        {
          "output_type": "execute_result",
          "data": {
            "text/plain": [
              "56"
            ]
          },
          "metadata": {},
          "execution_count": 47
        }
      ]
    },
    {
      "cell_type": "markdown",
      "metadata": {
        "id": "riQ2kRvRzwrZ"
      },
      "source": [
        "- Print several rows from the dataframe"
      ]
    },
    {
      "cell_type": "code",
      "metadata": {
        "id": "zIuLs8dFOspY",
        "outputId": "7cf24ca4-75fb-45d8-818e-be3039cf2b76",
        "colab": {
          "base_uri": "https://localhost:8080/",
          "height": 206
        }
      },
      "source": [
        "df_module.head()"
      ],
      "execution_count": 48,
      "outputs": [
        {
          "output_type": "execute_result",
          "data": {
            "text/plain": [
              "     Module Code                                              Title Campus\n",
              "0  GV508-7-SP-CO                 The Analysis of Conflict and Peace     CO\n",
              "1  GV510-7-AU-CO  Democracy, Violence, and Inequality in Latin A...     CO\n",
              "2  GV517-7-AU-CO                     International Security Studies     CO\n",
              "3  GV517-7-FY-CO                     International Security Studies     CO\n",
              "4  GV522-7-SP-CO                          Gender and Armed Conflict     CO"
            ],
            "text/html": [
              "\n",
              "  <div id=\"df-1e85b849-03d0-40d9-9074-185356c6e0fa\">\n",
              "    <div class=\"colab-df-container\">\n",
              "      <div>\n",
              "<style scoped>\n",
              "    .dataframe tbody tr th:only-of-type {\n",
              "        vertical-align: middle;\n",
              "    }\n",
              "\n",
              "    .dataframe tbody tr th {\n",
              "        vertical-align: top;\n",
              "    }\n",
              "\n",
              "    .dataframe thead th {\n",
              "        text-align: right;\n",
              "    }\n",
              "</style>\n",
              "<table border=\"1\" class=\"dataframe\">\n",
              "  <thead>\n",
              "    <tr style=\"text-align: right;\">\n",
              "      <th></th>\n",
              "      <th>Module Code</th>\n",
              "      <th>Title</th>\n",
              "      <th>Campus</th>\n",
              "    </tr>\n",
              "  </thead>\n",
              "  <tbody>\n",
              "    <tr>\n",
              "      <th>0</th>\n",
              "      <td>GV508-7-SP-CO</td>\n",
              "      <td>The Analysis of Conflict and Peace</td>\n",
              "      <td>CO</td>\n",
              "    </tr>\n",
              "    <tr>\n",
              "      <th>1</th>\n",
              "      <td>GV510-7-AU-CO</td>\n",
              "      <td>Democracy, Violence, and Inequality in Latin A...</td>\n",
              "      <td>CO</td>\n",
              "    </tr>\n",
              "    <tr>\n",
              "      <th>2</th>\n",
              "      <td>GV517-7-AU-CO</td>\n",
              "      <td>International Security Studies</td>\n",
              "      <td>CO</td>\n",
              "    </tr>\n",
              "    <tr>\n",
              "      <th>3</th>\n",
              "      <td>GV517-7-FY-CO</td>\n",
              "      <td>International Security Studies</td>\n",
              "      <td>CO</td>\n",
              "    </tr>\n",
              "    <tr>\n",
              "      <th>4</th>\n",
              "      <td>GV522-7-SP-CO</td>\n",
              "      <td>Gender and Armed Conflict</td>\n",
              "      <td>CO</td>\n",
              "    </tr>\n",
              "  </tbody>\n",
              "</table>\n",
              "</div>\n",
              "      <button class=\"colab-df-convert\" onclick=\"convertToInteractive('df-1e85b849-03d0-40d9-9074-185356c6e0fa')\"\n",
              "              title=\"Convert this dataframe to an interactive table.\"\n",
              "              style=\"display:none;\">\n",
              "        \n",
              "  <svg xmlns=\"http://www.w3.org/2000/svg\" height=\"24px\"viewBox=\"0 0 24 24\"\n",
              "       width=\"24px\">\n",
              "    <path d=\"M0 0h24v24H0V0z\" fill=\"none\"/>\n",
              "    <path d=\"M18.56 5.44l.94 2.06.94-2.06 2.06-.94-2.06-.94-.94-2.06-.94 2.06-2.06.94zm-11 1L8.5 8.5l.94-2.06 2.06-.94-2.06-.94L8.5 2.5l-.94 2.06-2.06.94zm10 10l.94 2.06.94-2.06 2.06-.94-2.06-.94-.94-2.06-.94 2.06-2.06.94z\"/><path d=\"M17.41 7.96l-1.37-1.37c-.4-.4-.92-.59-1.43-.59-.52 0-1.04.2-1.43.59L10.3 9.45l-7.72 7.72c-.78.78-.78 2.05 0 2.83L4 21.41c.39.39.9.59 1.41.59.51 0 1.02-.2 1.41-.59l7.78-7.78 2.81-2.81c.8-.78.8-2.07 0-2.86zM5.41 20L4 18.59l7.72-7.72 1.47 1.35L5.41 20z\"/>\n",
              "  </svg>\n",
              "      </button>\n",
              "      \n",
              "  <style>\n",
              "    .colab-df-container {\n",
              "      display:flex;\n",
              "      flex-wrap:wrap;\n",
              "      gap: 12px;\n",
              "    }\n",
              "\n",
              "    .colab-df-convert {\n",
              "      background-color: #E8F0FE;\n",
              "      border: none;\n",
              "      border-radius: 50%;\n",
              "      cursor: pointer;\n",
              "      display: none;\n",
              "      fill: #1967D2;\n",
              "      height: 32px;\n",
              "      padding: 0 0 0 0;\n",
              "      width: 32px;\n",
              "    }\n",
              "\n",
              "    .colab-df-convert:hover {\n",
              "      background-color: #E2EBFA;\n",
              "      box-shadow: 0px 1px 2px rgba(60, 64, 67, 0.3), 0px 1px 3px 1px rgba(60, 64, 67, 0.15);\n",
              "      fill: #174EA6;\n",
              "    }\n",
              "\n",
              "    [theme=dark] .colab-df-convert {\n",
              "      background-color: #3B4455;\n",
              "      fill: #D2E3FC;\n",
              "    }\n",
              "\n",
              "    [theme=dark] .colab-df-convert:hover {\n",
              "      background-color: #434B5C;\n",
              "      box-shadow: 0px 1px 3px 1px rgba(0, 0, 0, 0.15);\n",
              "      filter: drop-shadow(0px 1px 2px rgba(0, 0, 0, 0.3));\n",
              "      fill: #FFFFFF;\n",
              "    }\n",
              "  </style>\n",
              "\n",
              "      <script>\n",
              "        const buttonEl =\n",
              "          document.querySelector('#df-1e85b849-03d0-40d9-9074-185356c6e0fa button.colab-df-convert');\n",
              "        buttonEl.style.display =\n",
              "          google.colab.kernel.accessAllowed ? 'block' : 'none';\n",
              "\n",
              "        async function convertToInteractive(key) {\n",
              "          const element = document.querySelector('#df-1e85b849-03d0-40d9-9074-185356c6e0fa');\n",
              "          const dataTable =\n",
              "            await google.colab.kernel.invokeFunction('convertToInteractive',\n",
              "                                                     [key], {});\n",
              "          if (!dataTable) return;\n",
              "\n",
              "          const docLinkHtml = 'Like what you see? Visit the ' +\n",
              "            '<a target=\"_blank\" href=https://colab.research.google.com/notebooks/data_table.ipynb>data table notebook</a>'\n",
              "            + ' to learn more about interactive tables.';\n",
              "          element.innerHTML = '';\n",
              "          dataTable['output_type'] = 'display_data';\n",
              "          await google.colab.output.renderOutput(dataTable, element);\n",
              "          const docLink = document.createElement('div');\n",
              "          docLink.innerHTML = docLinkHtml;\n",
              "          element.appendChild(docLink);\n",
              "        }\n",
              "      </script>\n",
              "    </div>\n",
              "  </div>\n",
              "  "
            ]
          },
          "metadata": {},
          "execution_count": 48
        }
      ]
    },
    {
      "cell_type": "markdown",
      "metadata": {
        "id": "eyEVD8sJz1cM"
      },
      "source": [
        "## Extract links\n",
        "\n",
        "Now let's get the links in the table and construct the full url. Once a list of url is obtained, put it in the dataframe as a new column.\n"
      ]
    },
    {
      "cell_type": "code",
      "source": [
        "pre_url = \"https://www1.essex.ac.uk/modules/\" "
      ],
      "metadata": {
        "id": "mVfEm4cBYg2u"
      },
      "execution_count": 37,
      "outputs": []
    },
    {
      "cell_type": "code",
      "metadata": {
        "id": "zyt23HGEPXDZ"
      },
      "source": [
        "df_module[\"link\"] = [pre_url + link[\"href\"] for link in bs.select(\"td a\")]"
      ],
      "execution_count": 49,
      "outputs": []
    },
    {
      "cell_type": "code",
      "source": [
        "df_module.head()"
      ],
      "metadata": {
        "id": "i0SosA4-bLxm"
      },
      "execution_count": null,
      "outputs": []
    },
    {
      "cell_type": "markdown",
      "metadata": {
        "id": "COkAGauQ0ZkQ"
      },
      "source": [
        "# Visit a single page and extract the information (10 percent)\n",
        "\n",
        "- Use the first link (https://www1.essex.ac.uk/modules/Default.aspx?coursecode=GV505&level=7&period=AU&campus=CO&year=21)\n",
        "- Visit this page and extract the following information\n",
        "  - Module supervisors name\n",
        "  - Module supervisors email adress\n",
        "  - Weight of coursework in overall assessement\n",
        "  - Weight of exam in overall assessement\n",
        "- Once extract the information, construct a dataframe with one row \n",
        "\n",
        "The dataframe should look like this:\n",
        "\n",
        "| sup_name          | sup_email                 | Coursework | Exam |\n",
        "|-------------------|---------------------------|------------|------|\n",
        "| Prof Robert Johns | mailto:rajohn@essex.ac.uk | 100%       | 0%   |\n",
        "\n"
      ]
    },
    {
      "cell_type": "code",
      "metadata": {
        "id": "89-yKMTf0ZAl"
      },
      "source": [],
      "execution_count": null,
      "outputs": []
    },
    {
      "cell_type": "markdown",
      "metadata": {
        "id": "c8J2wjUn3Cnv"
      },
      "source": [
        "# Construct a function (8 percent)"
      ]
    },
    {
      "cell_type": "markdown",
      "metadata": {
        "id": "dThDqh1o3Qa-"
      },
      "source": [
        "Combine the work above and construct a function to do the job. The template is below. \n",
        "\n",
        "Try a few urls to check if the function works as intended."
      ]
    },
    {
      "cell_type": "code",
      "metadata": {
        "id": "HVAQQ-Ha3CQ6"
      },
      "source": [
        "def fetch_indpage(ind_url, sleep_sec = 3):\n",
        "  print(ind_url)\n",
        "  bs_ind = BeautifulSoup(urlopen(ind_url), 'html.parser')\n",
        "  ## provide some code to extract the relevant information\n",
        "  return(None)\n"
      ],
      "execution_count": null,
      "outputs": []
    },
    {
      "cell_type": "markdown",
      "metadata": {
        "id": "QkCd1JwC3nwD"
      },
      "source": [
        "# Use the function above and get information from all links (12 percent)\n",
        "\n",
        "1. Use the function above and get the information from all pages\n",
        "2. Then create a dataframe by concatinating the results\n",
        "3. Concatinate 2. with the dataframe you created in the beginning\n",
        "4. Save as a csv file\n",
        "\n",
        "Note: There will be missing information in some pages (e.g. https://www1.essex.ac.uk/modules/Default.aspx?coursecode=GV602&level=7&period=FY&campus=CO&year=21). That might cause errors to your function. You need to modify the function to handle these errors. You may be able to use `if .. else ..`, as we saw in the class, or may need to have a proper error handling with `try: ... except: ...`. \n",
        "See https://www.w3schools.com/python/python_try_except.asp for a simple tutorial.\n",
        "\n"
      ]
    },
    {
      "cell_type": "code",
      "metadata": {
        "id": "tOduEFzAxSiQ"
      },
      "source": [],
      "execution_count": null,
      "outputs": []
    }
  ]
}