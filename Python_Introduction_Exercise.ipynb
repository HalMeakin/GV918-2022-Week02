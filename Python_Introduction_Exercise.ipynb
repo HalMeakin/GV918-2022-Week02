{
  "nbformat": 4,
  "nbformat_minor": 0,
  "metadata": {
    "colab": {
      "provenance": [],
      "collapsed_sections": [],
      "toc_visible": true
    },
    "kernelspec": {
      "name": "python3",
      "display_name": "Python 3"
    },
    "language_info": {
      "name": "python"
    }
  },
  "cells": [
    {
      "cell_type": "markdown",
      "source": [
        "# Answer the following"
      ],
      "metadata": {
        "id": "TROHvJeI6Mbo"
      }
    },
    {
      "cell_type": "markdown",
      "source": [
        "## Create python scaler objects named `num1`, `num2`, `num3`, `str1`, `str2` whose contents are:\n",
        "\n",
        "- 1\n",
        "- 3\n",
        "- 101\n",
        "- \"Introduction\"\n",
        "- \"to Python\"\n",
        "\n",
        "\n",
        "\n"
      ],
      "metadata": {
        "id": "bG8jfKuA6P4E"
      }
    },
    {
      "cell_type": "code",
      "source": [
        "num1 = 1"
      ],
      "metadata": {
        "id": "b7bRA0ws6Pt0"
      },
      "execution_count": 2,
      "outputs": []
    },
    {
      "cell_type": "code",
      "source": [
        "num2 = 3"
      ],
      "metadata": {
        "id": "dUyiQ9FGlLZd"
      },
      "execution_count": 3,
      "outputs": []
    },
    {
      "cell_type": "code",
      "source": [
        "num3 = 101"
      ],
      "metadata": {
        "id": "rQtCulzKlLra"
      },
      "execution_count": 4,
      "outputs": []
    },
    {
      "cell_type": "code",
      "source": [
        "str1 = \"Introduction\""
      ],
      "metadata": {
        "id": "70-iunjglL4E"
      },
      "execution_count": 5,
      "outputs": []
    },
    {
      "cell_type": "code",
      "source": [
        "str2 = \"to Python\""
      ],
      "metadata": {
        "id": "AvwFhSP4lL_C"
      },
      "execution_count": 6,
      "outputs": []
    },
    {
      "cell_type": "markdown",
      "source": [
        "## Do the following calculation"
      ],
      "metadata": {
        "id": "LVTJG6o76iKs"
      }
    },
    {
      "cell_type": "markdown",
      "source": [
        "```\n",
        "num1 + num2\n",
        "num1 / num2\n",
        "str1 + str2\n",
        "```"
      ],
      "metadata": {
        "id": "7KhtCZTO6uDe"
      }
    },
    {
      "cell_type": "code",
      "source": [
        "num1 + num2"
      ],
      "metadata": {
        "id": "eLu9tICq6thM",
        "colab": {
          "base_uri": "https://localhost:8080/"
        },
        "outputId": "96ffb4e1-ce88-493f-f430-fe5b7dd64b89"
      },
      "execution_count": 7,
      "outputs": [
        {
          "output_type": "execute_result",
          "data": {
            "text/plain": [
              "4"
            ]
          },
          "metadata": {},
          "execution_count": 7
        }
      ]
    },
    {
      "cell_type": "code",
      "source": [
        "num1 / num2"
      ],
      "metadata": {
        "id": "yQnhkJJ-lZYm"
      },
      "execution_count": null,
      "outputs": []
    },
    {
      "cell_type": "code",
      "source": [
        "str1 + str2"
      ],
      "metadata": {
        "id": "Z1FuIZmLlbL-"
      },
      "execution_count": null,
      "outputs": []
    },
    {
      "cell_type": "markdown",
      "source": [
        "## Generate python lists of the following\n",
        "\n",
        "- sequence of integers from 1 to 10\n",
        "- sequence of letters from a to g\n",
        "  - you can try `string.ascii_lowercase`"
      ],
      "metadata": {
        "id": "A2I0PFDt7H-p"
      }
    },
    {
      "cell_type": "code",
      "source": [
        "list_a = list(range(1, 11))\n",
        "list_a"
      ],
      "metadata": {
        "id": "sjeBQvP5FSvi",
        "colab": {
          "base_uri": "https://localhost:8080/"
        },
        "outputId": "7f7c4977-43b6-4143-8f40-78451c471dd2"
      },
      "execution_count": 12,
      "outputs": [
        {
          "output_type": "execute_result",
          "data": {
            "text/plain": [
              "[1, 2, 3, 4, 5, 6, 7, 8, 9, 10]"
            ]
          },
          "metadata": {},
          "execution_count": 12
        }
      ]
    },
    {
      "cell_type": "code",
      "source": [
        "list_b = list(string.ascii_lowercase)"
      ],
      "metadata": {
        "id": "YvnnXxGRmYmj"
      },
      "execution_count": null,
      "outputs": []
    },
    {
      "cell_type": "code",
      "source": [],
      "metadata": {
        "id": "GXMnWyComSgA"
      },
      "execution_count": null,
      "outputs": []
    },
    {
      "cell_type": "markdown",
      "source": [
        "## From the list above, estract the following:\n",
        "\n",
        "```\n",
        "[1, 2, 3, 4, 5]\n",
        "[4, 5, 6]\n",
        "['c', 'd', 'e']\n",
        "\n",
        "```"
      ],
      "metadata": {
        "id": "af8B-RFn7v3f"
      }
    },
    {
      "cell_type": "code",
      "source": [],
      "metadata": {
        "id": "eoBnUnE97iuZ"
      },
      "execution_count": null,
      "outputs": []
    },
    {
      "cell_type": "code",
      "source": [],
      "metadata": {
        "id": "gVirDXtC9GIf"
      },
      "execution_count": null,
      "outputs": []
    },
    {
      "cell_type": "markdown",
      "source": [
        "## Loop (and list comprehension)\n",
        "\n",
        "For the list below, do the following:\n",
        "\n",
        "1. Print each element using `for` loop\n",
        "2. Calculate the sum of the elements using `for` loop\n",
        "3. Print elements which are even numbers (using `%`, `for` and `if`)\n",
        "  - `%` is an remainder caclulation operator\n",
        "4. Create a new list with odd numbers in `list_x` \n",
        "  1. create a blank list (`new_list = []`\n",
        "  2. construct a for loop\n",
        "  2. append an element if even (use `list.append()`)\n",
        "5. Do the same operation as **4.** with list comprehension\n"
      ],
      "metadata": {
        "id": "isK_KRpJ9FqC"
      }
    },
    {
      "cell_type": "code",
      "source": [
        "list_x = [0, 3, 6, 9, 12, 15, 18, 21, 24, 27, 30, 33, 36, 39, 42, 45, 48]"
      ],
      "metadata": {
        "id": "_6ML4YjK6h79"
      },
      "execution_count": null,
      "outputs": []
    },
    {
      "cell_type": "markdown",
      "source": [
        "## Function: Write following functions\n",
        "\n",
        "- a function to multiply two numbers\n",
        "- a function to sum numbers in a list\n",
        "- a function to find the max in a list\n",
        "\n",
        "\n"
      ],
      "metadata": {
        "id": "PwbVDwQI9aGM"
      }
    },
    {
      "cell_type": "code",
      "source": [],
      "metadata": {
        "id": "7q54IUz66MI8"
      },
      "execution_count": null,
      "outputs": []
    },
    {
      "cell_type": "code",
      "execution_count": null,
      "metadata": {
        "id": "9CJsaQEP6IDe"
      },
      "outputs": [],
      "source": []
    }
  ]
}