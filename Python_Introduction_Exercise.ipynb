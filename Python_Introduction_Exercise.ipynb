{
  "nbformat": 4,
  "nbformat_minor": 0,
  "metadata": {
    "colab": {
      "provenance": [],
      "collapsed_sections": [],
      "toc_visible": true
    },
    "kernelspec": {
      "name": "python3",
      "display_name": "Python 3"
    },
    "language_info": {
      "name": "python"
    }
  },
  "cells": [
    {
      "cell_type": "markdown",
      "source": [
        "# Answer the following"
      ],
      "metadata": {
        "id": "TROHvJeI6Mbo"
      }
    },
    {
      "cell_type": "markdown",
      "source": [
        "## Create python scaler objects named `num1`, `num2`, `num3`, `str1`, `str2` whose contents are:\n",
        "\n",
        "- 1\n",
        "- 3\n",
        "- 101\n",
        "- \"Introduction\"\n",
        "- \"to Python\"\n",
        "\n",
        "\n",
        "\n"
      ],
      "metadata": {
        "id": "bG8jfKuA6P4E"
      }
    },
    {
      "cell_type": "code",
      "source": [
        "num1 = 1"
      ],
      "metadata": {
        "id": "b7bRA0ws6Pt0"
      },
      "execution_count": null,
      "outputs": []
    },
    {
      "cell_type": "code",
      "source": [
        "num2 = 3"
      ],
      "metadata": {
        "id": "dUyiQ9FGlLZd"
      },
      "execution_count": null,
      "outputs": []
    },
    {
      "cell_type": "code",
      "source": [
        "num3 = 101"
      ],
      "metadata": {
        "id": "rQtCulzKlLra"
      },
      "execution_count": null,
      "outputs": []
    },
    {
      "cell_type": "code",
      "source": [
        "str1 = \"Introduction\""
      ],
      "metadata": {
        "id": "70-iunjglL4E"
      },
      "execution_count": null,
      "outputs": []
    },
    {
      "cell_type": "code",
      "source": [
        "str2 = \"to Python\""
      ],
      "metadata": {
        "id": "AvwFhSP4lL_C"
      },
      "execution_count": null,
      "outputs": []
    },
    {
      "cell_type": "markdown",
      "source": [
        "## Do the following calculation"
      ],
      "metadata": {
        "id": "LVTJG6o76iKs"
      }
    },
    {
      "cell_type": "markdown",
      "source": [
        "```\n",
        "num1 + num2\n",
        "num1 / num2\n",
        "str1 + str2\n",
        "```"
      ],
      "metadata": {
        "id": "7KhtCZTO6uDe"
      }
    },
    {
      "cell_type": "code",
      "source": [
        "num1 + num2"
      ],
      "metadata": {
        "id": "eLu9tICq6thM",
        "colab": {
          "base_uri": "https://localhost:8080/"
        },
        "outputId": "96ffb4e1-ce88-493f-f430-fe5b7dd64b89"
      },
      "execution_count": null,
      "outputs": [
        {
          "output_type": "execute_result",
          "data": {
            "text/plain": [
              "4"
            ]
          },
          "metadata": {},
          "execution_count": 7
        }
      ]
    },
    {
      "cell_type": "code",
      "source": [
        "num1 / num2"
      ],
      "metadata": {
        "id": "yQnhkJJ-lZYm"
      },
      "execution_count": null,
      "outputs": []
    },
    {
      "cell_type": "code",
      "source": [
        "str1 + str2"
      ],
      "metadata": {
        "id": "Z1FuIZmLlbL-"
      },
      "execution_count": null,
      "outputs": []
    },
    {
      "cell_type": "markdown",
      "source": [
        "## Generate python lists of the following\n",
        "\n",
        "- sequence of integers from 1 to 10\n",
        "- sequence of letters from a to g\n",
        "  - you can try `string.ascii_lowercase`"
      ],
      "metadata": {
        "id": "A2I0PFDt7H-p"
      }
    },
    {
      "cell_type": "code",
      "source": [
        "list_a = list(range(1, 11))\n",
        "list_a"
      ],
      "metadata": {
        "id": "sjeBQvP5FSvi",
        "colab": {
          "base_uri": "https://localhost:8080/"
        },
        "outputId": "0950d2b8-9c0c-4f56-c5c5-4a244365d135"
      },
      "execution_count": null,
      "outputs": [
        {
          "output_type": "execute_result",
          "data": {
            "text/plain": [
              "[1, 2, 3, 4, 5, 6, 7, 8, 9, 10]"
            ]
          },
          "metadata": {},
          "execution_count": 1
        }
      ]
    },
    {
      "cell_type": "code",
      "source": [
        "import string\n",
        "list_b = list(string.ascii_lowercase[:7])\n",
        "list_b"
      ],
      "metadata": {
        "id": "YvnnXxGRmYmj",
        "outputId": "c6b095cd-43c8-448c-bbc3-74d4f1a549de",
        "colab": {
          "base_uri": "https://localhost:8080/"
        }
      },
      "execution_count": null,
      "outputs": [
        {
          "output_type": "execute_result",
          "data": {
            "text/plain": [
              "['a', 'b', 'c', 'd', 'e', 'f', 'g']"
            ]
          },
          "metadata": {},
          "execution_count": 14
        }
      ]
    },
    {
      "cell_type": "code",
      "source": [],
      "metadata": {
        "id": "GXMnWyComSgA"
      },
      "execution_count": null,
      "outputs": []
    },
    {
      "cell_type": "markdown",
      "source": [
        "## From the list above, estract the following:\n",
        "\n",
        "```\n",
        "[1, 2, 3, 4, 5]\n",
        "[4, 5, 6]\n",
        "['c', 'd', 'e']\n",
        "\n",
        "```"
      ],
      "metadata": {
        "id": "af8B-RFn7v3f"
      }
    },
    {
      "cell_type": "code",
      "source": [
        "list_a[:6]"
      ],
      "metadata": {
        "id": "eoBnUnE97iuZ",
        "outputId": "8a157da7-0455-4ae9-f304-b8d7d9a17afb",
        "colab": {
          "base_uri": "https://localhost:8080/"
        }
      },
      "execution_count": null,
      "outputs": [
        {
          "output_type": "execute_result",
          "data": {
            "text/plain": [
              "[1, 2, 3, 4, 5, 6]"
            ]
          },
          "metadata": {},
          "execution_count": 10
        }
      ]
    },
    {
      "cell_type": "code",
      "source": [
        "list_a[3:6]"
      ],
      "metadata": {
        "id": "gVirDXtC9GIf",
        "outputId": "dfaaf5d6-3b8b-4650-a0f6-191455fb42c5",
        "colab": {
          "base_uri": "https://localhost:8080/"
        }
      },
      "execution_count": null,
      "outputs": [
        {
          "output_type": "execute_result",
          "data": {
            "text/plain": [
              "[4, 5, 6]"
            ]
          },
          "metadata": {},
          "execution_count": 12
        }
      ]
    },
    {
      "cell_type": "code",
      "source": [
        "list_b[2:5]"
      ],
      "metadata": {
        "id": "sWvISAXaMB-r",
        "outputId": "aeab6dca-a14c-49f1-9761-6ce7b93b0fc0",
        "colab": {
          "base_uri": "https://localhost:8080/"
        }
      },
      "execution_count": null,
      "outputs": [
        {
          "output_type": "execute_result",
          "data": {
            "text/plain": [
              "['c', 'd', 'e']"
            ]
          },
          "metadata": {},
          "execution_count": 15
        }
      ]
    },
    {
      "cell_type": "markdown",
      "source": [
        "## Loop (and list comprehension)\n",
        "\n",
        "For the list below, do the following:\n",
        "\n",
        "1. Print each element using `for` loop\n",
        "2. Calculate the sum of the elements using `for` loop\n",
        "3. Print elements which are even numbers (using `%`, `for` and `if`)\n",
        "  - `%` is an remainder caclulation operator\n",
        "4. Create a new list with odd numbers in `list_x` \n",
        "  1. create a blank list (`new_list = []`\n",
        "  2. construct a for loop\n",
        "  2. append an element if even (use `list.append()`)\n",
        "5. Do the same operation as **4.** with list comprehension\n"
      ],
      "metadata": {
        "id": "isK_KRpJ9FqC"
      }
    },
    {
      "cell_type": "code",
      "source": [
        "list_x = [0, 3, 6, 9, 12, 15, 18, 21, 24, 27, 30, 33, 36, 39, 42, 45, 48]"
      ],
      "metadata": {
        "id": "_6ML4YjK6h79"
      },
      "execution_count": 1,
      "outputs": []
    },
    {
      "cell_type": "markdown",
      "source": [
        "### 1) Print each element using for loop"
      ],
      "metadata": {
        "id": "0OQ4gaqyh8SD"
      }
    },
    {
      "cell_type": "code",
      "source": [
        "for i in list_x:\n",
        "  print(i)\n",
        "  "
      ],
      "metadata": {
        "id": "4pvXOOSsMXBP",
        "outputId": "788b83f8-6dad-4964-847f-394adc472ce6",
        "colab": {
          "base_uri": "https://localhost:8080/"
        }
      },
      "execution_count": 2,
      "outputs": [
        {
          "output_type": "stream",
          "name": "stdout",
          "text": [
            "0\n",
            "3\n",
            "6\n",
            "9\n",
            "12\n",
            "15\n",
            "18\n",
            "21\n",
            "24\n",
            "27\n",
            "30\n",
            "33\n",
            "36\n",
            "39\n",
            "42\n",
            "45\n",
            "48\n"
          ]
        }
      ]
    },
    {
      "cell_type": "markdown",
      "source": [
        "### 2) Calculate the sum of the elements using for loop"
      ],
      "metadata": {
        "id": "Drmtyg8ciGnQ"
      }
    },
    {
      "cell_type": "code",
      "source": [
        "j = 0 \n",
        "for i in list_x:\n",
        "  j += i\n",
        "print(j)"
      ],
      "metadata": {
        "id": "B5KSs_AfMvJN",
        "outputId": "bebc0cea-a34b-46cd-d8dd-9ec0fce232d7",
        "colab": {
          "base_uri": "https://localhost:8080/"
        }
      },
      "execution_count": null,
      "outputs": [
        {
          "output_type": "stream",
          "name": "stdout",
          "text": [
            "408\n"
          ]
        }
      ]
    },
    {
      "cell_type": "markdown",
      "source": [
        "### 3) Print elements which are even numbers"
      ],
      "metadata": {
        "id": "ii6wiU_niPwx"
      }
    },
    {
      "cell_type": "code",
      "source": [
        "for i in list_x:\n",
        "  if i % 2 == 0:\n",
        "    print(i)\n",
        "\n"
      ],
      "metadata": {
        "id": "W86y84OoNR4F",
        "outputId": "ce0bda44-ff51-4c8f-ef4c-1546ff274d2d",
        "colab": {
          "base_uri": "https://localhost:8080/"
        }
      },
      "execution_count": 3,
      "outputs": [
        {
          "output_type": "stream",
          "name": "stdout",
          "text": [
            "0\n",
            "6\n",
            "12\n",
            "18\n",
            "24\n",
            "30\n",
            "36\n",
            "42\n",
            "48\n"
          ]
        }
      ]
    },
    {
      "cell_type": "markdown",
      "source": [
        "### 4) Create a new list with odd numbers in list_x"
      ],
      "metadata": {
        "id": "OWtfJ2rmiVo1"
      }
    },
    {
      "cell_type": "code",
      "source": [
        "new_list = []\n",
        "for i in list_x:\n",
        "  if i % 2 != 0:\n",
        "    new_list.append(i)\n",
        "new_list"
      ],
      "metadata": {
        "id": "E7Ww4mCgOWOv",
        "outputId": "2fdf2529-e211-424b-8d3f-05c2b7c2ab8c",
        "colab": {
          "base_uri": "https://localhost:8080/"
        }
      },
      "execution_count": 5,
      "outputs": [
        {
          "output_type": "execute_result",
          "data": {
            "text/plain": [
              "[3, 9, 15, 21, 27, 33, 39, 45]"
            ]
          },
          "metadata": {},
          "execution_count": 5
        }
      ]
    },
    {
      "cell_type": "markdown",
      "source": [
        "### 5) Do the same operation as 4. with list comprehension"
      ],
      "metadata": {
        "id": "-Db7i2nriZQo"
      }
    },
    {
      "cell_type": "code",
      "source": [
        "list_comp = [i for i in list_x if i % 2 != 0]\n",
        "list_comp"
      ],
      "metadata": {
        "id": "TCnyrn02gm6M",
        "outputId": "53a02403-c85d-406d-e2a2-05c954dd3096",
        "colab": {
          "base_uri": "https://localhost:8080/"
        }
      },
      "execution_count": 7,
      "outputs": [
        {
          "output_type": "execute_result",
          "data": {
            "text/plain": [
              "[3, 9, 15, 21, 27, 33, 39, 45]"
            ]
          },
          "metadata": {},
          "execution_count": 7
        }
      ]
    },
    {
      "cell_type": "code",
      "source": [],
      "metadata": {
        "id": "yE1bIc6vPQ3A"
      },
      "execution_count": null,
      "outputs": []
    },
    {
      "cell_type": "markdown",
      "source": [
        "## Function: Write following functions\n",
        "\n",
        "- a function to multiply two numbers\n",
        "- a function to sum numbers in a list\n",
        "- a function to find the max in a list\n",
        "\n",
        "\n"
      ],
      "metadata": {
        "id": "PwbVDwQI9aGM"
      }
    },
    {
      "cell_type": "code",
      "source": [
        "def multiply(x,y=1):\n",
        "  return(x * y)\n",
        "\n",
        "multiply(5,10)"
      ],
      "metadata": {
        "id": "l13CABNxiver",
        "outputId": "0522c0a8-4f7e-4714-c08f-6b31442e52b0",
        "colab": {
          "base_uri": "https://localhost:8080/"
        }
      },
      "execution_count": 15,
      "outputs": [
        {
          "output_type": "execute_result",
          "data": {
            "text/plain": [
              "50"
            ]
          },
          "metadata": {},
          "execution_count": 15
        }
      ]
    },
    {
      "cell_type": "code",
      "source": [
        "def addition(x,y=0):\n",
        "  return(x + y)\n",
        "\n",
        "addition(5,10)"
      ],
      "metadata": {
        "id": "7q54IUz66MI8",
        "outputId": "8d9ad386-e7b0-4f0d-fd40-95593e500bf4",
        "colab": {
          "base_uri": "https://localhost:8080/"
        }
      },
      "execution_count": 17,
      "outputs": [
        {
          "output_type": "execute_result",
          "data": {
            "text/plain": [
              "15"
            ]
          },
          "metadata": {},
          "execution_count": 17
        }
      ]
    },
    {
      "cell_type": "code",
      "execution_count": 18,
      "metadata": {
        "id": "9CJsaQEP6IDe",
        "outputId": "23586629-e087-4bfb-ec70-67372676d3fe",
        "colab": {
          "base_uri": "https://localhost:8080/"
        }
      },
      "outputs": [
        {
          "output_type": "execute_result",
          "data": {
            "text/plain": [
              "48"
            ]
          },
          "metadata": {},
          "execution_count": 18
        }
      ],
      "source": [
        "def maximum(x):\n",
        "  return(max(x))\n",
        "\n",
        "maximum(list_x)"
      ]
    }
  ]
}